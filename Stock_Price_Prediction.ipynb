{
  "nbformat": 4,
  "nbformat_minor": 0,
  "metadata": {
    "colab": {
      "name": "Stock_Price_Prediction.ipynb",
      "provenance": []
    },
    "kernelspec": {
      "name": "python3",
      "display_name": "Python 3"
    }
  },
  "cells": [
    {
      "cell_type": "code",
      "metadata": {
        "id": "6kYl4AQG-cxI"
      },
      "source": [
        "import pandas as pd\r\n",
        "import numpy as  np\r\n",
        "import os\r\n",
        "from sklearn.linear_model import LinearRegression\r\n",
        "from sklearn.model_selection import train_test_split"
      ],
      "execution_count": 33,
      "outputs": []
    },
    {
      "cell_type": "code",
      "metadata": {
        "colab": {
          "base_uri": "https://localhost:8080/"
        },
        "id": "m8AOtyO4BEe2",
        "outputId": "874f8b95-6139-4657-d7c1-29a89ed982f7"
      },
      "source": [
        "!pip install quandl"
      ],
      "execution_count": 2,
      "outputs": [
        {
          "output_type": "stream",
          "text": [
            "Collecting quandl\n",
            "  Downloading https://files.pythonhosted.org/packages/c2/58/9f0e69d836045e3865d263e9ed49f42b23a58526fdabb30f74c430baee3f/Quandl-3.6.0-py2.py3-none-any.whl\n",
            "Requirement already satisfied: six in /usr/local/lib/python3.6/dist-packages (from quandl) (1.15.0)\n",
            "Requirement already satisfied: python-dateutil in /usr/local/lib/python3.6/dist-packages (from quandl) (2.8.1)\n",
            "Requirement already satisfied: more-itertools in /usr/local/lib/python3.6/dist-packages (from quandl) (8.6.0)\n",
            "Collecting inflection>=0.3.1\n",
            "  Downloading https://files.pythonhosted.org/packages/59/91/aa6bde563e0085a02a435aa99b49ef75b0a4b062635e606dab23ce18d720/inflection-0.5.1-py2.py3-none-any.whl\n",
            "Requirement already satisfied: pandas>=0.14 in /usr/local/lib/python3.6/dist-packages (from quandl) (1.1.5)\n",
            "Requirement already satisfied: numpy>=1.8 in /usr/local/lib/python3.6/dist-packages (from quandl) (1.19.5)\n",
            "Requirement already satisfied: requests>=2.7.0 in /usr/local/lib/python3.6/dist-packages (from quandl) (2.23.0)\n",
            "Requirement already satisfied: pytz>=2017.2 in /usr/local/lib/python3.6/dist-packages (from pandas>=0.14->quandl) (2018.9)\n",
            "Requirement already satisfied: certifi>=2017.4.17 in /usr/local/lib/python3.6/dist-packages (from requests>=2.7.0->quandl) (2020.12.5)\n",
            "Requirement already satisfied: urllib3!=1.25.0,!=1.25.1,<1.26,>=1.21.1 in /usr/local/lib/python3.6/dist-packages (from requests>=2.7.0->quandl) (1.24.3)\n",
            "Requirement already satisfied: chardet<4,>=3.0.2 in /usr/local/lib/python3.6/dist-packages (from requests>=2.7.0->quandl) (3.0.4)\n",
            "Requirement already satisfied: idna<3,>=2.5 in /usr/local/lib/python3.6/dist-packages (from requests>=2.7.0->quandl) (2.10)\n",
            "Installing collected packages: inflection, quandl\n",
            "Successfully installed inflection-0.5.1 quandl-3.6.0\n"
          ],
          "name": "stdout"
        }
      ]
    },
    {
      "cell_type": "code",
      "metadata": {
        "colab": {
          "base_uri": "https://localhost:8080/"
        },
        "id": "DbLCEbRP-12h",
        "outputId": "0dcd4c78-69f6-4b09-e39a-4c6533dbe432"
      },
      "source": [
        "import quandl\r\n",
        "import time\r\n",
        "\r\n",
        "auth_tok = \"_sQbgtmzUbtZ2hEasdZh\"\r\n",
        "\r\n",
        "data = quandl.get(\"WIKI/AAPL\")\r\n",
        "\r\n",
        "print(data)"
      ],
      "execution_count": 4,
      "outputs": [
        {
          "output_type": "stream",
          "text": [
            "              Open    High     Low  ...    Adj. Low  Adj. Close  Adj. Volume\n",
            "Date                                ...                                     \n",
            "1980-12-12   28.75   28.87   28.75  ...    0.422706    0.422706  117258400.0\n",
            "1980-12-15   27.38   27.38   27.25  ...    0.400652    0.400652   43971200.0\n",
            "1980-12-16   25.37   25.37   25.25  ...    0.371246    0.371246   26432000.0\n",
            "1980-12-17   25.87   26.00   25.87  ...    0.380362    0.380362   21610400.0\n",
            "1980-12-18   26.63   26.75   26.63  ...    0.391536    0.391536   18362400.0\n",
            "...            ...     ...     ...  ...         ...         ...          ...\n",
            "2018-03-21  175.04  175.09  171.26  ...  171.260000  171.270000   35247358.0\n",
            "2018-03-22  170.00  172.68  168.60  ...  168.600000  168.845000   41051076.0\n",
            "2018-03-23  168.39  169.92  164.94  ...  164.940000  164.940000   40248954.0\n",
            "2018-03-26  168.07  173.10  166.44  ...  166.440000  172.770000   36272617.0\n",
            "2018-03-27  173.68  175.15  166.92  ...  166.920000  168.340000   38962839.0\n",
            "\n",
            "[9400 rows x 12 columns]\n"
          ],
          "name": "stdout"
        }
      ]
    },
    {
      "cell_type": "code",
      "metadata": {
        "colab": {
          "base_uri": "https://localhost:8080/"
        },
        "id": "deqHYnL5BNog",
        "outputId": "7e500636-3ec0-44ad-d182-f49818c5ced0"
      },
      "source": [
        "data.info()"
      ],
      "execution_count": 5,
      "outputs": [
        {
          "output_type": "stream",
          "text": [
            "<class 'pandas.core.frame.DataFrame'>\n",
            "DatetimeIndex: 9400 entries, 1980-12-12 to 2018-03-27\n",
            "Data columns (total 12 columns):\n",
            " #   Column       Non-Null Count  Dtype  \n",
            "---  ------       --------------  -----  \n",
            " 0   Open         9400 non-null   float64\n",
            " 1   High         9400 non-null   float64\n",
            " 2   Low          9400 non-null   float64\n",
            " 3   Close        9400 non-null   float64\n",
            " 4   Volume       9400 non-null   float64\n",
            " 5   Ex-Dividend  9400 non-null   float64\n",
            " 6   Split Ratio  9400 non-null   float64\n",
            " 7   Adj. Open    9400 non-null   float64\n",
            " 8   Adj. High    9400 non-null   float64\n",
            " 9   Adj. Low     9400 non-null   float64\n",
            " 10  Adj. Close   9400 non-null   float64\n",
            " 11  Adj. Volume  9400 non-null   float64\n",
            "dtypes: float64(12)\n",
            "memory usage: 954.7 KB\n"
          ],
          "name": "stdout"
        }
      ]
    },
    {
      "cell_type": "code",
      "metadata": {
        "colab": {
          "base_uri": "https://localhost:8080/"
        },
        "id": "UemobWm8EYkw",
        "outputId": "bb02d370-281b-4757-f8cc-4184565b56de"
      },
      "source": [
        "data.describe"
      ],
      "execution_count": 6,
      "outputs": [
        {
          "output_type": "execute_result",
          "data": {
            "text/plain": [
              "<bound method NDFrame.describe of               Open    High     Low  ...    Adj. Low  Adj. Close  Adj. Volume\n",
              "Date                                ...                                     \n",
              "1980-12-12   28.75   28.87   28.75  ...    0.422706    0.422706  117258400.0\n",
              "1980-12-15   27.38   27.38   27.25  ...    0.400652    0.400652   43971200.0\n",
              "1980-12-16   25.37   25.37   25.25  ...    0.371246    0.371246   26432000.0\n",
              "1980-12-17   25.87   26.00   25.87  ...    0.380362    0.380362   21610400.0\n",
              "1980-12-18   26.63   26.75   26.63  ...    0.391536    0.391536   18362400.0\n",
              "...            ...     ...     ...  ...         ...         ...          ...\n",
              "2018-03-21  175.04  175.09  171.26  ...  171.260000  171.270000   35247358.0\n",
              "2018-03-22  170.00  172.68  168.60  ...  168.600000  168.845000   41051076.0\n",
              "2018-03-23  168.39  169.92  164.94  ...  164.940000  164.940000   40248954.0\n",
              "2018-03-26  168.07  173.10  166.44  ...  166.440000  172.770000   36272617.0\n",
              "2018-03-27  173.68  175.15  166.92  ...  166.920000  168.340000   38962839.0\n",
              "\n",
              "[9400 rows x 12 columns]>"
            ]
          },
          "metadata": {
            "tags": []
          },
          "execution_count": 6
        }
      ]
    },
    {
      "cell_type": "code",
      "metadata": {
        "id": "gVHrDcrTEddC",
        "colab": {
          "base_uri": "https://localhost:8080/"
        },
        "outputId": "864791aa-58ca-42eb-eddc-8d3b762f37e5"
      },
      "source": [
        "data.shape"
      ],
      "execution_count": 11,
      "outputs": [
        {
          "output_type": "execute_result",
          "data": {
            "text/plain": [
              "(9400, 12)"
            ]
          },
          "metadata": {
            "tags": []
          },
          "execution_count": 11
        }
      ]
    },
    {
      "cell_type": "code",
      "metadata": {
        "id": "AwTMNW1Fjef2"
      },
      "source": [
        "data['HL_PCT'] = (data['Adj. High']-data['Adj. Low'])/data['Adj. Close'] * 100.0\r\n",
        "data['PCT_change'] = (data['Adj. Close']-data['Adj. Open'])/data['Adj. Open'] * 100.0"
      ],
      "execution_count": 14,
      "outputs": []
    },
    {
      "cell_type": "code",
      "metadata": {
        "colab": {
          "base_uri": "https://localhost:8080/",
          "height": 637
        },
        "id": "0cWs3PtzmHjR",
        "outputId": "d4ea857b-f3ea-47fc-a1d6-d5fb52344d06"
      },
      "source": [
        "data"
      ],
      "execution_count": 15,
      "outputs": [
        {
          "output_type": "execute_result",
          "data": {
            "text/html": [
              "<div>\n",
              "<style scoped>\n",
              "    .dataframe tbody tr th:only-of-type {\n",
              "        vertical-align: middle;\n",
              "    }\n",
              "\n",
              "    .dataframe tbody tr th {\n",
              "        vertical-align: top;\n",
              "    }\n",
              "\n",
              "    .dataframe thead th {\n",
              "        text-align: right;\n",
              "    }\n",
              "</style>\n",
              "<table border=\"1\" class=\"dataframe\">\n",
              "  <thead>\n",
              "    <tr style=\"text-align: right;\">\n",
              "      <th></th>\n",
              "      <th>Open</th>\n",
              "      <th>High</th>\n",
              "      <th>Low</th>\n",
              "      <th>Close</th>\n",
              "      <th>Volume</th>\n",
              "      <th>Ex-Dividend</th>\n",
              "      <th>Split Ratio</th>\n",
              "      <th>Adj. Open</th>\n",
              "      <th>Adj. High</th>\n",
              "      <th>Adj. Low</th>\n",
              "      <th>Adj. Close</th>\n",
              "      <th>Adj. Volume</th>\n",
              "      <th>HL_PCT</th>\n",
              "      <th>PCT_change</th>\n",
              "    </tr>\n",
              "    <tr>\n",
              "      <th>Date</th>\n",
              "      <th></th>\n",
              "      <th></th>\n",
              "      <th></th>\n",
              "      <th></th>\n",
              "      <th></th>\n",
              "      <th></th>\n",
              "      <th></th>\n",
              "      <th></th>\n",
              "      <th></th>\n",
              "      <th></th>\n",
              "      <th></th>\n",
              "      <th></th>\n",
              "      <th></th>\n",
              "      <th></th>\n",
              "    </tr>\n",
              "  </thead>\n",
              "  <tbody>\n",
              "    <tr>\n",
              "      <th>1980-12-12</th>\n",
              "      <td>28.75</td>\n",
              "      <td>28.87</td>\n",
              "      <td>28.75</td>\n",
              "      <td>28.750</td>\n",
              "      <td>2093900.0</td>\n",
              "      <td>0.0</td>\n",
              "      <td>1.0</td>\n",
              "      <td>0.422706</td>\n",
              "      <td>0.424470</td>\n",
              "      <td>0.422706</td>\n",
              "      <td>0.422706</td>\n",
              "      <td>117258400.0</td>\n",
              "      <td>0.417391</td>\n",
              "      <td>0.000000</td>\n",
              "    </tr>\n",
              "    <tr>\n",
              "      <th>1980-12-15</th>\n",
              "      <td>27.38</td>\n",
              "      <td>27.38</td>\n",
              "      <td>27.25</td>\n",
              "      <td>27.250</td>\n",
              "      <td>785200.0</td>\n",
              "      <td>0.0</td>\n",
              "      <td>1.0</td>\n",
              "      <td>0.402563</td>\n",
              "      <td>0.402563</td>\n",
              "      <td>0.400652</td>\n",
              "      <td>0.400652</td>\n",
              "      <td>43971200.0</td>\n",
              "      <td>0.477064</td>\n",
              "      <td>-0.474799</td>\n",
              "    </tr>\n",
              "    <tr>\n",
              "      <th>1980-12-16</th>\n",
              "      <td>25.37</td>\n",
              "      <td>25.37</td>\n",
              "      <td>25.25</td>\n",
              "      <td>25.250</td>\n",
              "      <td>472000.0</td>\n",
              "      <td>0.0</td>\n",
              "      <td>1.0</td>\n",
              "      <td>0.373010</td>\n",
              "      <td>0.373010</td>\n",
              "      <td>0.371246</td>\n",
              "      <td>0.371246</td>\n",
              "      <td>26432000.0</td>\n",
              "      <td>0.475248</td>\n",
              "      <td>-0.473000</td>\n",
              "    </tr>\n",
              "    <tr>\n",
              "      <th>1980-12-17</th>\n",
              "      <td>25.87</td>\n",
              "      <td>26.00</td>\n",
              "      <td>25.87</td>\n",
              "      <td>25.870</td>\n",
              "      <td>385900.0</td>\n",
              "      <td>0.0</td>\n",
              "      <td>1.0</td>\n",
              "      <td>0.380362</td>\n",
              "      <td>0.382273</td>\n",
              "      <td>0.380362</td>\n",
              "      <td>0.380362</td>\n",
              "      <td>21610400.0</td>\n",
              "      <td>0.502513</td>\n",
              "      <td>0.000000</td>\n",
              "    </tr>\n",
              "    <tr>\n",
              "      <th>1980-12-18</th>\n",
              "      <td>26.63</td>\n",
              "      <td>26.75</td>\n",
              "      <td>26.63</td>\n",
              "      <td>26.630</td>\n",
              "      <td>327900.0</td>\n",
              "      <td>0.0</td>\n",
              "      <td>1.0</td>\n",
              "      <td>0.391536</td>\n",
              "      <td>0.393300</td>\n",
              "      <td>0.391536</td>\n",
              "      <td>0.391536</td>\n",
              "      <td>18362400.0</td>\n",
              "      <td>0.450620</td>\n",
              "      <td>0.000000</td>\n",
              "    </tr>\n",
              "    <tr>\n",
              "      <th>...</th>\n",
              "      <td>...</td>\n",
              "      <td>...</td>\n",
              "      <td>...</td>\n",
              "      <td>...</td>\n",
              "      <td>...</td>\n",
              "      <td>...</td>\n",
              "      <td>...</td>\n",
              "      <td>...</td>\n",
              "      <td>...</td>\n",
              "      <td>...</td>\n",
              "      <td>...</td>\n",
              "      <td>...</td>\n",
              "      <td>...</td>\n",
              "      <td>...</td>\n",
              "    </tr>\n",
              "    <tr>\n",
              "      <th>2018-03-21</th>\n",
              "      <td>175.04</td>\n",
              "      <td>175.09</td>\n",
              "      <td>171.26</td>\n",
              "      <td>171.270</td>\n",
              "      <td>35247358.0</td>\n",
              "      <td>0.0</td>\n",
              "      <td>1.0</td>\n",
              "      <td>175.040000</td>\n",
              "      <td>175.090000</td>\n",
              "      <td>171.260000</td>\n",
              "      <td>171.270000</td>\n",
              "      <td>35247358.0</td>\n",
              "      <td>2.236235</td>\n",
              "      <td>-2.153793</td>\n",
              "    </tr>\n",
              "    <tr>\n",
              "      <th>2018-03-22</th>\n",
              "      <td>170.00</td>\n",
              "      <td>172.68</td>\n",
              "      <td>168.60</td>\n",
              "      <td>168.845</td>\n",
              "      <td>41051076.0</td>\n",
              "      <td>0.0</td>\n",
              "      <td>1.0</td>\n",
              "      <td>170.000000</td>\n",
              "      <td>172.680000</td>\n",
              "      <td>168.600000</td>\n",
              "      <td>168.845000</td>\n",
              "      <td>41051076.0</td>\n",
              "      <td>2.416417</td>\n",
              "      <td>-0.679412</td>\n",
              "    </tr>\n",
              "    <tr>\n",
              "      <th>2018-03-23</th>\n",
              "      <td>168.39</td>\n",
              "      <td>169.92</td>\n",
              "      <td>164.94</td>\n",
              "      <td>164.940</td>\n",
              "      <td>40248954.0</td>\n",
              "      <td>0.0</td>\n",
              "      <td>1.0</td>\n",
              "      <td>168.390000</td>\n",
              "      <td>169.920000</td>\n",
              "      <td>164.940000</td>\n",
              "      <td>164.940000</td>\n",
              "      <td>40248954.0</td>\n",
              "      <td>3.019280</td>\n",
              "      <td>-2.048815</td>\n",
              "    </tr>\n",
              "    <tr>\n",
              "      <th>2018-03-26</th>\n",
              "      <td>168.07</td>\n",
              "      <td>173.10</td>\n",
              "      <td>166.44</td>\n",
              "      <td>172.770</td>\n",
              "      <td>36272617.0</td>\n",
              "      <td>0.0</td>\n",
              "      <td>1.0</td>\n",
              "      <td>168.070000</td>\n",
              "      <td>173.100000</td>\n",
              "      <td>166.440000</td>\n",
              "      <td>172.770000</td>\n",
              "      <td>36272617.0</td>\n",
              "      <td>3.854836</td>\n",
              "      <td>2.796454</td>\n",
              "    </tr>\n",
              "    <tr>\n",
              "      <th>2018-03-27</th>\n",
              "      <td>173.68</td>\n",
              "      <td>175.15</td>\n",
              "      <td>166.92</td>\n",
              "      <td>168.340</td>\n",
              "      <td>38962839.0</td>\n",
              "      <td>0.0</td>\n",
              "      <td>1.0</td>\n",
              "      <td>173.680000</td>\n",
              "      <td>175.150000</td>\n",
              "      <td>166.920000</td>\n",
              "      <td>168.340000</td>\n",
              "      <td>38962839.0</td>\n",
              "      <td>4.888915</td>\n",
              "      <td>-3.074620</td>\n",
              "    </tr>\n",
              "  </tbody>\n",
              "</table>\n",
              "<p>9400 rows × 14 columns</p>\n",
              "</div>"
            ],
            "text/plain": [
              "              Open    High     Low  ...  Adj. Volume    HL_PCT  PCT_change\n",
              "Date                                ...                                   \n",
              "1980-12-12   28.75   28.87   28.75  ...  117258400.0  0.417391    0.000000\n",
              "1980-12-15   27.38   27.38   27.25  ...   43971200.0  0.477064   -0.474799\n",
              "1980-12-16   25.37   25.37   25.25  ...   26432000.0  0.475248   -0.473000\n",
              "1980-12-17   25.87   26.00   25.87  ...   21610400.0  0.502513    0.000000\n",
              "1980-12-18   26.63   26.75   26.63  ...   18362400.0  0.450620    0.000000\n",
              "...            ...     ...     ...  ...          ...       ...         ...\n",
              "2018-03-21  175.04  175.09  171.26  ...   35247358.0  2.236235   -2.153793\n",
              "2018-03-22  170.00  172.68  168.60  ...   41051076.0  2.416417   -0.679412\n",
              "2018-03-23  168.39  169.92  164.94  ...   40248954.0  3.019280   -2.048815\n",
              "2018-03-26  168.07  173.10  166.44  ...   36272617.0  3.854836    2.796454\n",
              "2018-03-27  173.68  175.15  166.92  ...   38962839.0  4.888915   -3.074620\n",
              "\n",
              "[9400 rows x 14 columns]"
            ]
          },
          "metadata": {
            "tags": []
          },
          "execution_count": 15
        }
      ]
    },
    {
      "cell_type": "code",
      "metadata": {
        "id": "Tgz182FsmLfi"
      },
      "source": [
        "data = data[['Adj. Close','PCT_change','HL_PCT']] "
      ],
      "execution_count": 16,
      "outputs": []
    },
    {
      "cell_type": "code",
      "metadata": {
        "colab": {
          "base_uri": "https://localhost:8080/",
          "height": 233
        },
        "id": "2NHwJijRmWYp",
        "outputId": "1d9de272-e679-4ecb-b582-1ee6e5c2d091"
      },
      "source": [
        "data.head()"
      ],
      "execution_count": 17,
      "outputs": [
        {
          "output_type": "execute_result",
          "data": {
            "text/html": [
              "<div>\n",
              "<style scoped>\n",
              "    .dataframe tbody tr th:only-of-type {\n",
              "        vertical-align: middle;\n",
              "    }\n",
              "\n",
              "    .dataframe tbody tr th {\n",
              "        vertical-align: top;\n",
              "    }\n",
              "\n",
              "    .dataframe thead th {\n",
              "        text-align: right;\n",
              "    }\n",
              "</style>\n",
              "<table border=\"1\" class=\"dataframe\">\n",
              "  <thead>\n",
              "    <tr style=\"text-align: right;\">\n",
              "      <th></th>\n",
              "      <th>Adj. Close</th>\n",
              "      <th>PCT_change</th>\n",
              "      <th>HL_PCT</th>\n",
              "    </tr>\n",
              "    <tr>\n",
              "      <th>Date</th>\n",
              "      <th></th>\n",
              "      <th></th>\n",
              "      <th></th>\n",
              "    </tr>\n",
              "  </thead>\n",
              "  <tbody>\n",
              "    <tr>\n",
              "      <th>1980-12-12</th>\n",
              "      <td>0.422706</td>\n",
              "      <td>0.000000</td>\n",
              "      <td>0.417391</td>\n",
              "    </tr>\n",
              "    <tr>\n",
              "      <th>1980-12-15</th>\n",
              "      <td>0.400652</td>\n",
              "      <td>-0.474799</td>\n",
              "      <td>0.477064</td>\n",
              "    </tr>\n",
              "    <tr>\n",
              "      <th>1980-12-16</th>\n",
              "      <td>0.371246</td>\n",
              "      <td>-0.473000</td>\n",
              "      <td>0.475248</td>\n",
              "    </tr>\n",
              "    <tr>\n",
              "      <th>1980-12-17</th>\n",
              "      <td>0.380362</td>\n",
              "      <td>0.000000</td>\n",
              "      <td>0.502513</td>\n",
              "    </tr>\n",
              "    <tr>\n",
              "      <th>1980-12-18</th>\n",
              "      <td>0.391536</td>\n",
              "      <td>0.000000</td>\n",
              "      <td>0.450620</td>\n",
              "    </tr>\n",
              "  </tbody>\n",
              "</table>\n",
              "</div>"
            ],
            "text/plain": [
              "            Adj. Close  PCT_change    HL_PCT\n",
              "Date                                        \n",
              "1980-12-12    0.422706    0.000000  0.417391\n",
              "1980-12-15    0.400652   -0.474799  0.477064\n",
              "1980-12-16    0.371246   -0.473000  0.475248\n",
              "1980-12-17    0.380362    0.000000  0.502513\n",
              "1980-12-18    0.391536    0.000000  0.450620"
            ]
          },
          "metadata": {
            "tags": []
          },
          "execution_count": 17
        }
      ]
    },
    {
      "cell_type": "code",
      "metadata": {
        "colab": {
          "base_uri": "https://localhost:8080/"
        },
        "id": "c5lgTc_2mYbH",
        "outputId": "979b9c62-a0fa-4d42-a5a9-5e9cb02ac3ab"
      },
      "source": [
        "data.isna().sum()"
      ],
      "execution_count": 19,
      "outputs": [
        {
          "output_type": "execute_result",
          "data": {
            "text/plain": [
              "Adj. Close    0\n",
              "PCT_change    0\n",
              "HL_PCT        0\n",
              "dtype: int64"
            ]
          },
          "metadata": {
            "tags": []
          },
          "execution_count": 19
        }
      ]
    },
    {
      "cell_type": "code",
      "metadata": {
        "id": "9CXww6AMmdsU"
      },
      "source": [
        "forecast_out = 10"
      ],
      "execution_count": 20,
      "outputs": []
    },
    {
      "cell_type": "code",
      "metadata": {
        "colab": {
          "base_uri": "https://localhost:8080/"
        },
        "id": "JiXKQ_vamyR1",
        "outputId": "4b5f0d49-a31f-452d-81d7-6c01dbce2ff5"
      },
      "source": [
        "data['Prediction'] = data[['Adj. Close']].shift(-forecast_out)"
      ],
      "execution_count": 21,
      "outputs": [
        {
          "output_type": "stream",
          "text": [
            "/usr/local/lib/python3.6/dist-packages/ipykernel_launcher.py:1: SettingWithCopyWarning: \n",
            "A value is trying to be set on a copy of a slice from a DataFrame.\n",
            "Try using .loc[row_indexer,col_indexer] = value instead\n",
            "\n",
            "See the caveats in the documentation: https://pandas.pydata.org/pandas-docs/stable/user_guide/indexing.html#returning-a-view-versus-a-copy\n",
            "  \"\"\"Entry point for launching an IPython kernel.\n"
          ],
          "name": "stderr"
        }
      ]
    },
    {
      "cell_type": "code",
      "metadata": {
        "colab": {
          "base_uri": "https://localhost:8080/",
          "height": 233
        },
        "id": "obtwQtIMm5Bl",
        "outputId": "faa6f05a-28ac-4777-af47-f6f72a7acabb"
      },
      "source": [
        "data.tail()"
      ],
      "execution_count": 22,
      "outputs": [
        {
          "output_type": "execute_result",
          "data": {
            "text/html": [
              "<div>\n",
              "<style scoped>\n",
              "    .dataframe tbody tr th:only-of-type {\n",
              "        vertical-align: middle;\n",
              "    }\n",
              "\n",
              "    .dataframe tbody tr th {\n",
              "        vertical-align: top;\n",
              "    }\n",
              "\n",
              "    .dataframe thead th {\n",
              "        text-align: right;\n",
              "    }\n",
              "</style>\n",
              "<table border=\"1\" class=\"dataframe\">\n",
              "  <thead>\n",
              "    <tr style=\"text-align: right;\">\n",
              "      <th></th>\n",
              "      <th>Adj. Close</th>\n",
              "      <th>PCT_change</th>\n",
              "      <th>HL_PCT</th>\n",
              "      <th>Prediction</th>\n",
              "    </tr>\n",
              "    <tr>\n",
              "      <th>Date</th>\n",
              "      <th></th>\n",
              "      <th></th>\n",
              "      <th></th>\n",
              "      <th></th>\n",
              "    </tr>\n",
              "  </thead>\n",
              "  <tbody>\n",
              "    <tr>\n",
              "      <th>2018-03-21</th>\n",
              "      <td>171.270</td>\n",
              "      <td>-2.153793</td>\n",
              "      <td>2.236235</td>\n",
              "      <td>NaN</td>\n",
              "    </tr>\n",
              "    <tr>\n",
              "      <th>2018-03-22</th>\n",
              "      <td>168.845</td>\n",
              "      <td>-0.679412</td>\n",
              "      <td>2.416417</td>\n",
              "      <td>NaN</td>\n",
              "    </tr>\n",
              "    <tr>\n",
              "      <th>2018-03-23</th>\n",
              "      <td>164.940</td>\n",
              "      <td>-2.048815</td>\n",
              "      <td>3.019280</td>\n",
              "      <td>NaN</td>\n",
              "    </tr>\n",
              "    <tr>\n",
              "      <th>2018-03-26</th>\n",
              "      <td>172.770</td>\n",
              "      <td>2.796454</td>\n",
              "      <td>3.854836</td>\n",
              "      <td>NaN</td>\n",
              "    </tr>\n",
              "    <tr>\n",
              "      <th>2018-03-27</th>\n",
              "      <td>168.340</td>\n",
              "      <td>-3.074620</td>\n",
              "      <td>4.888915</td>\n",
              "      <td>NaN</td>\n",
              "    </tr>\n",
              "  </tbody>\n",
              "</table>\n",
              "</div>"
            ],
            "text/plain": [
              "            Adj. Close  PCT_change    HL_PCT  Prediction\n",
              "Date                                                    \n",
              "2018-03-21     171.270   -2.153793  2.236235         NaN\n",
              "2018-03-22     168.845   -0.679412  2.416417         NaN\n",
              "2018-03-23     164.940   -2.048815  3.019280         NaN\n",
              "2018-03-26     172.770    2.796454  3.854836         NaN\n",
              "2018-03-27     168.340   -3.074620  4.888915         NaN"
            ]
          },
          "metadata": {
            "tags": []
          },
          "execution_count": 22
        }
      ]
    },
    {
      "cell_type": "code",
      "metadata": {
        "id": "nX-Ll9DaniLC"
      },
      "source": [
        "X = np.array(data.drop(['Prediction'],1))"
      ],
      "execution_count": 25,
      "outputs": []
    },
    {
      "cell_type": "code",
      "metadata": {
        "id": "RiZz7gXBnn9r"
      },
      "source": [
        "X = X[:-forecast_out]"
      ],
      "execution_count": 26,
      "outputs": []
    },
    {
      "cell_type": "code",
      "metadata": {
        "colab": {
          "base_uri": "https://localhost:8080/"
        },
        "id": "n5eshslXn5nz",
        "outputId": "cddbcfa9-253c-457d-8d74-5e302f3133e8"
      },
      "source": [
        "X"
      ],
      "execution_count": 27,
      "outputs": [
        {
          "output_type": "execute_result",
          "data": {
            "text/plain": [
              "array([[  0.42270592,   0.        ,   0.4173913 ],\n",
              "       [  0.40065169,  -0.47479912,   0.47706422],\n",
              "       [  0.37124607,  -0.47299961,   0.47524752],\n",
              "       ...,\n",
              "       [179.98      ,   1.13508654,   1.45016113],\n",
              "       [181.72      ,   0.79316656,   1.19964781],\n",
              "       [179.97      ,  -1.43490881,   2.36706118]])"
            ]
          },
          "metadata": {
            "tags": []
          },
          "execution_count": 27
        }
      ]
    },
    {
      "cell_type": "code",
      "metadata": {
        "id": "r9h0BYK_n7GF"
      },
      "source": [
        "y = np.array(data['Prediction'])"
      ],
      "execution_count": 29,
      "outputs": []
    },
    {
      "cell_type": "code",
      "metadata": {
        "colab": {
          "base_uri": "https://localhost:8080/"
        },
        "id": "of2z7XHWoBY0",
        "outputId": "5b18676a-f060-442f-b644-232043ab0cb3"
      },
      "source": [
        "y"
      ],
      "execution_count": 30,
      "outputs": [
        {
          "output_type": "execute_result",
          "data": {
            "text/plain": [
              "array([0.52930132, 0.51636284, 0.50180706, ...,        nan,        nan,\n",
              "              nan])"
            ]
          },
          "metadata": {
            "tags": []
          },
          "execution_count": 30
        }
      ]
    },
    {
      "cell_type": "code",
      "metadata": {
        "id": "nBEGEFyjoECx"
      },
      "source": [
        "y = y[:-forecast_out]"
      ],
      "execution_count": 31,
      "outputs": []
    },
    {
      "cell_type": "code",
      "metadata": {
        "colab": {
          "base_uri": "https://localhost:8080/"
        },
        "id": "005xTf35oJrS",
        "outputId": "ab89cadd-0c47-44c5-b34a-b7e6e91d9e25"
      },
      "source": [
        "y"
      ],
      "execution_count": 32,
      "outputs": [
        {
          "output_type": "execute_result",
          "data": {
            "text/plain": [
              "array([  0.52930132,   0.51636284,   0.50180706, ..., 164.94      ,\n",
              "       172.77      , 168.34      ])"
            ]
          },
          "metadata": {
            "tags": []
          },
          "execution_count": 32
        }
      ]
    },
    {
      "cell_type": "code",
      "metadata": {
        "id": "Y4WA0KOuoKmB"
      },
      "source": [
        "x_train, x_test, y_train, y_test = train_test_split(X, y, test_size=0.2)"
      ],
      "execution_count": 34,
      "outputs": []
    },
    {
      "cell_type": "code",
      "metadata": {
        "id": "0KdfT3EEod79"
      },
      "source": [
        "LR = LinearRegression()"
      ],
      "execution_count": 37,
      "outputs": []
    },
    {
      "cell_type": "code",
      "metadata": {
        "colab": {
          "base_uri": "https://localhost:8080/"
        },
        "id": "1BPSgKpsolsF",
        "outputId": "e19c56ef-75fe-4b24-9e08-ab3024fd8f27"
      },
      "source": [
        "LR.fit(x_train, y_train)"
      ],
      "execution_count": 39,
      "outputs": [
        {
          "output_type": "execute_result",
          "data": {
            "text/plain": [
              "LinearRegression(copy_X=True, fit_intercept=True, n_jobs=None, normalize=False)"
            ]
          },
          "metadata": {
            "tags": []
          },
          "execution_count": 39
        }
      ]
    },
    {
      "cell_type": "code",
      "metadata": {
        "colab": {
          "base_uri": "https://localhost:8080/"
        },
        "id": "vYN1vCdJos2U",
        "outputId": "126d7991-22c8-411c-f691-393855e9ed41"
      },
      "source": [
        "LR.score(x_train,y_train)"
      ],
      "execution_count": 40,
      "outputs": [
        {
          "output_type": "execute_result",
          "data": {
            "text/plain": [
              "0.9971746802210667"
            ]
          },
          "metadata": {
            "tags": []
          },
          "execution_count": 40
        }
      ]
    },
    {
      "cell_type": "code",
      "metadata": {
        "colab": {
          "base_uri": "https://localhost:8080/"
        },
        "id": "T32s0rmtpJnu",
        "outputId": "cd61a952-4ea1-44c3-c28b-cc2deafcbecb"
      },
      "source": [
        "LR.score(x_test,y_test)"
      ],
      "execution_count": 41,
      "outputs": [
        {
          "output_type": "execute_result",
          "data": {
            "text/plain": [
              "0.9969651025371177"
            ]
          },
          "metadata": {
            "tags": []
          },
          "execution_count": 41
        }
      ]
    },
    {
      "cell_type": "code",
      "metadata": {
        "id": "pfC73dZepQGm"
      },
      "source": [
        "y_pred = LR.predict(x_test)\r\n"
      ],
      "execution_count": 42,
      "outputs": []
    },
    {
      "cell_type": "code",
      "metadata": {
        "colab": {
          "base_uri": "https://localhost:8080/"
        },
        "id": "IVh_XaAtpb6r",
        "outputId": "0bfe021b-5e7a-41f2-e493-d498cd16f4ba"
      },
      "source": [
        "y_pred"
      ],
      "execution_count": 43,
      "outputs": [
        {
          "output_type": "execute_result",
          "data": {
            "text/plain": [
              "array([ 1.7039493 ,  0.95484235,  1.41012611, ..., 35.52580489,\n",
              "       11.66654047,  1.02162865])"
            ]
          },
          "metadata": {
            "tags": []
          },
          "execution_count": 43
        }
      ]
    },
    {
      "cell_type": "code",
      "metadata": {
        "id": "Z40MVTkNpdPx"
      },
      "source": [
        "from sklearn import metrics\r\n",
        "accuracy=metrics.r2_score(y_test,y_pred)"
      ],
      "execution_count": 45,
      "outputs": []
    },
    {
      "cell_type": "code",
      "metadata": {
        "colab": {
          "base_uri": "https://localhost:8080/"
        },
        "id": "dRYJ3ZEipm0O",
        "outputId": "4bb97b41-86be-4b71-f08e-7a7a60c3fdbd"
      },
      "source": [
        "print(accuracy*100)"
      ],
      "execution_count": 47,
      "outputs": [
        {
          "output_type": "stream",
          "text": [
            "99.69651025371176\n"
          ],
          "name": "stdout"
        }
      ]
    },
    {
      "cell_type": "code",
      "metadata": {
        "colab": {
          "base_uri": "https://localhost:8080/"
        },
        "id": "CMgFj2tOpqX9",
        "outputId": "032f37e9-4ae4-458f-e1bb-9abf85a8fc2d"
      },
      "source": [
        "metrics.mean_squared_error(y_test,y_pred)"
      ],
      "execution_count": 48,
      "outputs": [
        {
          "output_type": "execute_result",
          "data": {
            "text/plain": [
              "4.800276836857391"
            ]
          },
          "metadata": {
            "tags": []
          },
          "execution_count": 48
        }
      ]
    },
    {
      "cell_type": "code",
      "metadata": {
        "id": "nlPo7vmjs9aE"
      },
      "source": [
        ""
      ],
      "execution_count": null,
      "outputs": []
    }
  ]
}